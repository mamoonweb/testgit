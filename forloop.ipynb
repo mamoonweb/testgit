{
 "cells": [
  {
   "cell_type": "code",
   "execution_count": 1,
   "metadata": {},
   "outputs": [
    {
     "name": "stdout",
     "output_type": "stream",
     "text": [
      "Ali\n",
      "Hamza\n",
      "Mehdi\n",
      "Niaz\n"
     ]
    }
   ],
   "source": [
    "students = ['Ali','Hamza','Mehdi','Niaz']\n",
    "for student in students:\n",
    "    print(student)\n",
    "    "
   ]
  },
  {
   "cell_type": "code",
   "execution_count": 2,
   "metadata": {},
   "outputs": [
    {
     "name": "stdout",
     "output_type": "stream",
     "text": [
      "Ali andar Ajao\n",
      "Hamza Nikal\n",
      "Mehdi andar Ajao\n",
      "Niaz andar Ajao\n"
     ]
    }
   ],
   "source": [
    "students = ['Ali','Hamza','Mehdi','Niaz']\n",
    "for student in students:\n",
    "    if student == 'Hamza':\n",
    "        print(f'{student} Nikal')\n",
    "    else:\n",
    "        print(f'{student} andar Ajao')\n"
   ]
  },
  {
   "cell_type": "code",
   "execution_count": 4,
   "metadata": {},
   "outputs": [
    {
     "name": "stdout",
     "output_type": "stream",
     "text": [
      "p a k i s t a n "
     ]
    }
   ],
   "source": [
    "for a in 'pakistan':\n",
    "    print(a, end=' ')"
   ]
  },
  {
   "cell_type": "code",
   "execution_count": 6,
   "metadata": {},
   "outputs": [
    {
     "name": "stdout",
     "output_type": "stream",
     "text": [
      "0 1 2 3 4 5 6 7 8 9 "
     ]
    }
   ],
   "source": [
    "for num in range(10):\n",
    "     print(num, end=' ')"
   ]
  },
  {
   "cell_type": "code",
   "execution_count": 7,
   "metadata": {},
   "outputs": [
    {
     "name": "stdout",
     "output_type": "stream",
     "text": [
      "1 2 3 4 5 6 7 8 9 "
     ]
    }
   ],
   "source": [
    "for num in range(1, 10):\n",
    "     print(num, end=' ')"
   ]
  },
  {
   "cell_type": "code",
   "execution_count": 8,
   "metadata": {},
   "outputs": [
    {
     "name": "stdout",
     "output_type": "stream",
     "text": [
      "Plz Enter Number 1\n",
      "Plz Enter Number 2\n",
      "1 "
     ]
    }
   ],
   "source": [
    "start = int(input(\"Plz Enter Number \"))\n",
    "End = int(input(\"Plz Enter Number \"))\n",
    "\n",
    "for num in range(start , End):\n",
    "      print(num, end=' ')\n",
    "    \n"
   ]
  },
  {
   "cell_type": "code",
   "execution_count": 10,
   "metadata": {},
   "outputs": [
    {
     "name": "stdout",
     "output_type": "stream",
     "text": [
      "Plz Enter TABLE Number 9\n",
      "9 * 1 = 9 * 1\n",
      "9 * 2 = 9 * 2\n",
      "9 * 3 = 9 * 3\n",
      "9 * 4 = 9 * 4\n",
      "9 * 5 = 9 * 5\n",
      "9 * 6 = 9 * 6\n",
      "9 * 7 = 9 * 7\n",
      "9 * 8 = 9 * 8\n",
      "9 * 9 = 9 * 9\n"
     ]
    }
   ],
   "source": [
    "user = int(input(\"Plz Enter TABLE Number \"))\n",
    "for num in range(1, 10):\n",
    "    print(f'{user} * {num} = {user} * {num}')"
   ]
  },
  {
   "cell_type": "code",
   "execution_count": 15,
   "metadata": {},
   "outputs": [
    {
     "name": "stdout",
     "output_type": "stream",
     "text": [
      "25 24 23 22 21 20 19 18 17 16 15 14 13 12 11 10 9 8 7 6 5 4 3 2 1 "
     ]
    }
   ],
   "source": [
    "for num in range(25,0,-1):\n",
    "    \n",
    "    print(num, end=\" \")"
   ]
  },
  {
   "cell_type": "code",
   "execution_count": 16,
   "metadata": {},
   "outputs": [
    {
     "name": "stdout",
     "output_type": "stream",
     "text": [
      "Plz Enter TABLE Number 6\n",
      "6 * 1 = 6 * 1\n",
      "6 * 3 = 6 * 3\n",
      "6 * 5 = 6 * 5\n",
      "6 * 7 = 6 * 7\n",
      "6 * 9 = 6 * 9\n"
     ]
    }
   ],
   "source": [
    "user = int(input(\"Plz Enter TABLE Number \"))\n",
    "for num in range(1, 10):\n",
    "    if num % 2 == 0:\n",
    "        continue\n",
    "    else:\n",
    "        \n",
    "        print(f'{user} * {num} = {user} * {num}')"
   ]
  },
  {
   "cell_type": "code",
   "execution_count": 17,
   "metadata": {},
   "outputs": [
    {
     "name": "stdout",
     "output_type": "stream",
     "text": [
      "Plz Enter TABLE Number 6\n",
      "6 * 1 = 6 * 1\n"
     ]
    }
   ],
   "source": [
    "user = int(input(\"Plz Enter TABLE Number \"))\n",
    "for num in range(1, 10):\n",
    "    if num % 2 == 0:\n",
    "        break\n",
    "    else:\n",
    "        \n",
    "        print(f'{user} * {num} = {user} * {num}')"
   ]
  },
  {
   "cell_type": "code",
   "execution_count": 18,
   "metadata": {},
   "outputs": [
    {
     "name": "stdout",
     "output_type": "stream",
     "text": [
      "Enter Your Friend Name : mam\n",
      "Enter Your Friend Name : sjks\n",
      "Enter Your Friend Name : ali\n",
      "Enter Your Friend Name : mehdi\n",
      "Enter Your Friend Name : ss\n",
      "Enter Your Friend Name : dhd\n",
      "Enter Your Friend Name : sshs\n",
      "Enter Your Friend Name : ssjs\n",
      "Enter Your Friend Name : sjsjs\n",
      "Enter Your Friend Name : sjs\n"
     ]
    },
    {
     "data": {
      "text/plain": [
       "['ali']"
      ]
     },
     "execution_count": 18,
     "metadata": {},
     "output_type": "execute_result"
    }
   ],
   "source": [
    "best_friend = []\n",
    "friends = []\n",
    "for num in range(10):\n",
    "    name = input(\"Enter Your Friend Name : \")\n",
    "    if name.startswith('a'):\n",
    "        best_friend.append(name)                                                                        \n",
    "best_friend        "
   ]
  },
  {
   "cell_type": "markdown",
   "metadata": {},
   "source": [
    "# Neated For loop\n"
   ]
  },
  {
   "cell_type": "code",
   "execution_count": 20,
   "metadata": {},
   "outputs": [
    {
     "name": "stdout",
     "output_type": "stream",
     "text": [
      "1 N\n",
      "1 a\n",
      "1 z\n",
      "1 o\n",
      "2 N\n",
      "2 a\n",
      "2 z\n",
      "2 o\n",
      "3 N\n",
      "3 a\n",
      "3 z\n",
      "3 o\n",
      "4 N\n",
      "4 a\n",
      "4 z\n",
      "4 o\n",
      "5 N\n",
      "5 a\n",
      "5 z\n",
      "5 o\n"
     ]
    }
   ],
   "source": [
    "for a in [1,2,3,4,5]:\n",
    "    for b in 'Nazo':\n",
    "        print(a,b)"
   ]
  },
  {
   "cell_type": "code",
   "execution_count": 32,
   "metadata": {},
   "outputs": [
    {
     "name": "stdout",
     "output_type": "stream",
     "text": [
      "Plz Enter TABLE Number 2\n",
      "Plz Enter TABLE Number 4\n",
      "Table Of 2\n",
      "-------------------\n",
      "2 * 1 = 2\n",
      "2 * 2 = 4\n",
      "2 * 3 = 6\n",
      "2 * 4 = 8\n",
      "2 * 5 = 10\n",
      "2 * 6 = 12\n",
      "2 * 7 = 14\n",
      "2 * 8 = 16\n",
      "2 * 9 = 18\n",
      "2 * 10 = 20\n",
      "\n",
      "\n",
      "Table Of 3\n",
      "-------------------\n",
      "3 * 1 = 3\n",
      "3 * 2 = 6\n",
      "3 * 3 = 9\n",
      "3 * 4 = 12\n",
      "3 * 5 = 15\n",
      "3 * 6 = 18\n",
      "3 * 7 = 21\n",
      "3 * 8 = 24\n",
      "3 * 9 = 27\n",
      "3 * 10 = 30\n",
      "\n",
      "\n"
     ]
    }
   ],
   "source": [
    "userone = int(input(\"Plz Enter TABLE Number \"))\n",
    "usertwo = int(input(\"Plz Enter TABLE Number \"))\n",
    "for tablenum in range(userone,usertwo):\n",
    "    print(f\"Table Of {tablenum}\")\n",
    "    print(\"-------------------\")\n",
    "    for num in range(1,11):\n",
    "        \n",
    "        print(f'{tablenum} * {num} = {tablenum * num}')\n",
    "    print(\"\\n\")"
   ]
  },
  {
   "cell_type": "markdown",
   "metadata": {},
   "source": [
    "# list Comprehension"
   ]
  },
  {
   "cell_type": "code",
   "execution_count": 33,
   "metadata": {},
   "outputs": [
    {
     "data": {
      "text/plain": [
       "[1, 4, 9, 16, 25, 36, 49, 64, 81]"
      ]
     },
     "execution_count": 33,
     "metadata": {},
     "output_type": "execute_result"
    }
   ],
   "source": [
    "a=[1,2,3,4,5,6,7,8,9]\n",
    "squares=[]\n",
    "for num in a:\n",
    "    squares.append(num**2)\n",
    "squares    "
   ]
  },
  {
   "cell_type": "code",
   "execution_count": 35,
   "metadata": {},
   "outputs": [
    {
     "data": {
      "text/plain": [
       "[1, 4, 9, 16, 25, 36, 49, 64, 81]"
      ]
     },
     "execution_count": 35,
     "metadata": {},
     "output_type": "execute_result"
    }
   ],
   "source": [
    "[num**2 for num in range(1,10)]"
   ]
  },
  {
   "cell_type": "code",
   "execution_count": 36,
   "metadata": {},
   "outputs": [
    {
     "data": {
      "text/plain": [
       "[25, 36, 49, 64, 81]"
      ]
     },
     "execution_count": 36,
     "metadata": {},
     "output_type": "execute_result"
    }
   ],
   "source": [
    "[num**2 for num in range(1,10) if num>4]"
   ]
  },
  {
   "cell_type": "code",
   "execution_count": null,
   "metadata": {},
   "outputs": [],
   "source": []
  }
 ],
 "metadata": {
  "kernelspec": {
   "display_name": "Python 3",
   "language": "python",
   "name": "python3"
  },
  "language_info": {
   "codemirror_mode": {
    "name": "ipython",
    "version": 3
   },
   "file_extension": ".py",
   "mimetype": "text/x-python",
   "name": "python",
   "nbconvert_exporter": "python",
   "pygments_lexer": "ipython3",
   "version": "3.7.3"
  }
 },
 "nbformat": 4,
 "nbformat_minor": 2
}
